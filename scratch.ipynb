{
 "cells": [
  {
   "cell_type": "code",
   "execution_count": 3,
   "metadata": {},
   "outputs": [],
   "source": [
    "import numpy as np \n",
    "import pandas as pd "
   ]
  },
  {
   "cell_type": "code",
   "execution_count": 50,
   "metadata": {},
   "outputs": [
    {
     "data": {
      "text/plain": [
       "array([[ 0.94235194,  0.02057838,  0.03011899],\n",
       "       [ 0.02057838,  0.97390655, -0.0137131 ],\n",
       "       [ 0.03011899, -0.0137131 ,  1.0204094 ]])"
      ]
     },
     "execution_count": 50,
     "metadata": {},
     "output_type": "execute_result"
    }
   ],
   "source": [
    "x1 = np.random.normal(0, 1, 1000)\n",
    "x2 = np.random.normal(0, 1, 1000)\n",
    "x3 = np.random.normal(0, 1, 1000)\n",
    "\n",
    "\n",
    "np.cov([x1, x2, x3])"
   ]
  },
  {
   "cell_type": "code",
   "execution_count": 46,
   "metadata": {},
   "outputs": [
    {
     "data": {
      "text/plain": [
       "array([0., 1., 2., 3., 4., 5., 6., 7., 8., 9.])"
      ]
     },
     "execution_count": 46,
     "metadata": {},
     "output_type": "execute_result"
    }
   ],
   "source": [
    "np.arange(10, dtype=np.float64)"
   ]
  },
  {
   "cell_type": "code",
   "execution_count": 49,
   "metadata": {},
   "outputs": [
    {
     "data": {
      "text/plain": [
       "array([[ 0.07837962,  0.00383169,  0.0296802 , ...,  0.01033446,\n",
       "        -0.02582093, -0.03469185],\n",
       "       [ 0.00383169,  0.0041708 ,  0.00357638, ..., -0.0030486 ,\n",
       "        -0.0001529 ,  0.00814101],\n",
       "       [ 0.0296802 ,  0.00357638,  0.01237312, ...,  0.0020172 ,\n",
       "        -0.00918574, -0.00788823],\n",
       "       ...,\n",
       "       [ 0.01033446, -0.0030486 ,  0.0020172 , ...,  0.0045331 ,\n",
       "        -0.00439426, -0.0133501 ],\n",
       "       [-0.02582093, -0.0001529 , -0.00918574, ..., -0.00439426,\n",
       "         0.00881526,  0.01416826],\n",
       "       [-0.03469185,  0.00814101, -0.00788823, ..., -0.0133501 ,\n",
       "         0.01416826,  0.03964686]])"
      ]
     },
     "execution_count": 49,
     "metadata": {},
     "output_type": "execute_result"
    }
   ],
   "source": [
    "np.cov(np.random.rand(1000, 3))"
   ]
  },
  {
   "cell_type": "code",
   "execution_count": 2,
   "metadata": {},
   "outputs": [
    {
     "name": "stderr",
     "output_type": "stream",
     "text": [
      "/tmp/ipykernel_59359/3738925007.py:1: DtypeWarning: Columns (3,4,5) have mixed types. Specify dtype option on import or set low_memory=False.\n",
      "  df = pd.read_csv('https://www.gstatic.com/covid19/mobility/Global_Mobility_Report.csv')\n"
     ]
    }
   ],
   "source": [
    "df = pd.read_csv('https://www.gstatic.com/covid19/mobility/Global_Mobility_Report.csv')"
   ]
  },
  {
   "cell_type": "code",
   "execution_count": 5,
   "metadata": {},
   "outputs": [],
   "source": [
    "us = df.loc[df.country_region == 'United States']"
   ]
  },
  {
   "cell_type": "code",
   "execution_count": 7,
   "metadata": {},
   "outputs": [
    {
     "name": "stderr",
     "output_type": "stream",
     "text": [
      "/tmp/ipykernel_59359/185694691.py:1: SettingWithCopyWarning: \n",
      "A value is trying to be set on a copy of a slice from a DataFrame.\n",
      "Try using .loc[row_indexer,col_indexer] = value instead\n",
      "\n",
      "See the caveats in the documentation: https://pandas.pydata.org/pandas-docs/stable/user_guide/indexing.html#returning-a-view-versus-a-copy\n",
      "  us.date = pd.to_datetime(us.date)\n"
     ]
    }
   ],
   "source": [
    "us.date = pd.to_datetime(us.date)\n",
    "\n",
    "# narrow to April 10 2020 and April 24 2020\n",
    "\n",
    "us = us.loc[(us.date >= '2020-04-10') & (us.date <= '2020-04-24')]"
   ]
  },
  {
   "cell_type": "code",
   "execution_count": 11,
   "metadata": {},
   "outputs": [],
   "source": [
    "us.to_parquet('us_mobility.parquet')"
   ]
  },
  {
   "cell_type": "code",
   "execution_count": 4,
   "metadata": {},
   "outputs": [],
   "source": [
    "us = pd.read_parquet('us_mobility.parquet')"
   ]
  },
  {
   "cell_type": "code",
   "execution_count": 5,
   "metadata": {},
   "outputs": [],
   "source": [
    "us.to_csv('us_mobility.csv')"
   ]
  }
 ],
 "metadata": {
  "kernelspec": {
   "display_name": "env1",
   "language": "python",
   "name": "python3"
  },
  "language_info": {
   "codemirror_mode": {
    "name": "ipython",
    "version": 3
   },
   "file_extension": ".py",
   "mimetype": "text/x-python",
   "name": "python",
   "nbconvert_exporter": "python",
   "pygments_lexer": "ipython3",
   "version": "3.13.0"
  }
 },
 "nbformat": 4,
 "nbformat_minor": 2
}
